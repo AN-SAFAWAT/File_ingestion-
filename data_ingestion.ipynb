{
  "nbformat": 4,
  "nbformat_minor": 0,
  "metadata": {
    "colab": {
      "provenance": [],
      "authorship_tag": "ABX9TyOeJkFK2qZn7vESwUWRcLZv",
      "include_colab_link": true
    },
    "kernelspec": {
      "name": "python3",
      "display_name": "Python 3"
    },
    "language_info": {
      "name": "python"
    }
  },
  "cells": [
    {
      "cell_type": "markdown",
      "metadata": {
        "id": "view-in-github",
        "colab_type": "text"
      },
      "source": [
        "<a href=\"https://colab.research.google.com/github/AN-SAFAWAT/File_ingestion-/blob/main/data_ingestion.ipynb\" target=\"_parent\"><img src=\"https://colab.research.google.com/assets/colab-badge.svg\" alt=\"Open In Colab\"/></a>"
      ]
    },
    {
      "cell_type": "code",
      "execution_count": 1,
      "metadata": {
        "colab": {
          "base_uri": "https://localhost:8080/"
        },
        "id": "eVwLaXSlKXf7",
        "outputId": "25d96efa-5afb-42e7-9c19-827c32b57619"
      },
      "outputs": [
        {
          "output_type": "stream",
          "name": "stdout",
          "text": [
            "Writing testutility.py\n"
          ]
        }
      ],
      "source": [
        "%%writefile testutility.py\n",
        "import logging\n",
        "import os\n",
        "import subprocess\n",
        "import yaml\n",
        "import pandas as pd\n",
        "import datetime \n",
        "import gc\n",
        "import re\n",
        "\n",
        "\n",
        "################\n",
        "# File Reading #\n",
        "################\n",
        "\n",
        "def read_config_file(filepath):\n",
        "    with open(filepath, 'r') as stream:\n",
        "        try:\n",
        "            return yaml.safe_load(stream)\n",
        "        except yaml.YAMLError as exc:\n",
        "            logging.error(exc)\n",
        "\n",
        "\n",
        "def replacer(string, char):\n",
        "    pattern = char + '{2,}'\n",
        "    string = re.sub(pattern, char, string) \n",
        "    return string\n",
        "\n",
        "def col_header_val(df,table_config):\n",
        "    '''\n",
        "    replace whitespaces in the column\n",
        "    and standardized column names\n",
        "    '''\n",
        "    #df.drop('Unnamed: 0',axis=1)\n",
        "    df.columns = df.columns.str.lower()\n",
        "    df.columns = df.columns.str.replace('[^\\w]','_',regex=True)\n",
        "    df.columns = list(map(lambda x: x.strip('_'), list(df.columns)))\n",
        "    df.columns = list(map(lambda x: replacer(x,'_'), list(df.columns)))\n",
        "    expected_col = list(map(lambda x: x.lower(),  table_config['columns']))\n",
        "    expected_col.sort()\n",
        "    df.columns =list(map(lambda x: x.lower(), list(df.columns)))\n",
        "    df = df.reindex(sorted(df.columns), axis=1)\n",
        "    if len(df.columns) == len(expected_col) and list(expected_col)  == list(df.columns):\n",
        "        print(\"column name and column length validation passed\")\n",
        "        return 1\n",
        "    else:\n",
        "        print(\"column name and column length validation failed\")\n",
        "        mismatched_columns_file = list(set(df.columns).difference(expected_col))\n",
        "        print(\"Following File columns are not in the YAML file\",mismatched_columns_file)\n",
        "        missing_YAML_file = list(set(expected_col).difference(df.columns))\n",
        "        print(\"Following YAML columns are not in the file uploaded\",missing_YAML_file)\n",
        "        logging.info(f'df columns: {df.columns}')\n",
        "        logging.info(f'expected columns: {expected_col}')\n",
        "        return 0"
      ]
    },
    {
      "cell_type": "code",
      "source": [
        "%%writefile file.yaml\n",
        "file_type: csv\n",
        "dataset_name: DrDoSDNS\n",
        "file_name: DrDoS_DNS\n",
        "table_name: edsurv\n",
        "inbound_delimiter: \",\"\n",
        "outbound_delimiter: \"|\"\n",
        "skip_leading_rows: 1\n",
        "columns: \n",
        "    - flow_id\n",
        "    - source_ip\n",
        "    - source_port"
      ],
      "metadata": {
        "colab": {
          "base_uri": "https://localhost:8080/"
        },
        "id": "IrFdLk5uKu-g",
        "outputId": "519d290e-085b-49a8-9ba7-147524205a9f"
      },
      "execution_count": 2,
      "outputs": [
        {
          "output_type": "stream",
          "name": "stdout",
          "text": [
            "Writing file.yaml\n"
          ]
        }
      ]
    },
    {
      "cell_type": "code",
      "source": [
        "import testutility as tu"
      ],
      "metadata": {
        "id": "5juR5FkyLA-F"
      },
      "execution_count": 3,
      "outputs": []
    },
    {
      "cell_type": "code",
      "source": [
        "config_data=tu.read_config_file('file.yaml')\n",
        "config_data"
      ],
      "metadata": {
        "colab": {
          "base_uri": "https://localhost:8080/"
        },
        "id": "3XR-VD63V9ah",
        "outputId": "d974d3a7-bac1-47c0-d822-ead6eb97dbf5"
      },
      "execution_count": 4,
      "outputs": [
        {
          "output_type": "execute_result",
          "data": {
            "text/plain": [
              "{'file_type': 'csv',\n",
              " 'dataset_name': 'DrDoSDNS',\n",
              " 'file_name': 'DrDoS_DNS',\n",
              " 'table_name': 'edsurv',\n",
              " 'inbound_delimiter': ',',\n",
              " 'outbound_delimiter': '|',\n",
              " 'skip_leading_rows': 1,\n",
              " 'columns': ['flow_id', 'source_ip', 'source_port']}"
            ]
          },
          "metadata": {},
          "execution_count": 4
        }
      ]
    },
    {
      "cell_type": "code",
      "source": [
        "config_data['columns']"
      ],
      "metadata": {
        "colab": {
          "base_uri": "https://localhost:8080/"
        },
        "id": "WoT6zwp2_Xob",
        "outputId": "9fd97edb-432b-4cd6-e66f-48fa6aa9566a"
      },
      "execution_count": 5,
      "outputs": [
        {
          "output_type": "execute_result",
          "data": {
            "text/plain": [
              "['flow_id', 'source_ip', 'source_port']"
            ]
          },
          "metadata": {},
          "execution_count": 5
        }
      ]
    },
    {
      "cell_type": "code",
      "source": [
        "len(config_data['columns'])"
      ],
      "metadata": {
        "colab": {
          "base_uri": "https://localhost:8080/"
        },
        "id": "qWZ2TYi_gdiz",
        "outputId": "75bf18ee-648f-40d5-e479-f66e836aeca0"
      },
      "execution_count": 10,
      "outputs": [
        {
          "output_type": "execute_result",
          "data": {
            "text/plain": [
              "3"
            ]
          },
          "metadata": {},
          "execution_count": 10
        }
      ]
    },
    {
      "cell_type": "code",
      "source": [
        "#from pandas.core.generic import config\n",
        "import pandas as pd\n",
        "\n",
        "file_type=config_data['file_type']\n",
        "url='/content/'+config_data['file_name']+f'.{file_type}'\n",
        "\n",
        "df_yaml=pd.read_csv(url)\n",
        "df_yaml.drop('Unnamed: 0',axis=1,inplace=True)\n",
        "df_yaml"
      ],
      "metadata": {
        "colab": {
          "base_uri": "https://localhost:8080/",
          "height": 1000
        },
        "id": "fvCyRaR3WHkd",
        "outputId": "82b3bbf9-917c-43d5-db71-3776349ecbc0"
      },
      "execution_count": 11,
      "outputs": [
        {
          "output_type": "stream",
          "name": "stderr",
          "text": [
            "<ipython-input-11-428a7e329ef2>:7: DtypeWarning: Columns (85) have mixed types. Specify dtype option on import or set low_memory=False.\n",
            "  df_yaml=pd.read_csv(url)\n"
          ]
        },
        {
          "output_type": "execute_result",
          "data": {
            "text/plain": [
              "                                    Flow ID     Source IP   Source Port  \\\n",
              "0      172.16.0.5-192.168.50.1-634-60495-17    172.16.0.5           634   \n",
              "1      172.16.0.5-192.168.50.1-60495-634-17  192.168.50.1           634   \n",
              "2      172.16.0.5-192.168.50.1-634-46391-17    172.16.0.5           634   \n",
              "3      172.16.0.5-192.168.50.1-634-11894-17    172.16.0.5           634   \n",
              "4      172.16.0.5-192.168.50.1-634-27878-17    172.16.0.5           634   \n",
              "...                                     ...           ...           ...   \n",
              "85542  172.16.0.5-192.168.50.1-792-54540-17    172.16.0.5           792   \n",
              "85543  172.16.0.5-192.168.50.1-793-48632-17    172.16.0.5           793   \n",
              "85544  172.16.0.5-192.168.50.1-564-14935-17    172.16.0.5           564   \n",
              "85545   172.16.0.5-192.168.50.1-564-7820-17    172.16.0.5           564   \n",
              "85546   172.16.0.5-192.168.50.1-794-2622-17    172.16.0.5           794   \n",
              "\n",
              "       Destination IP   Destination Port   Protocol  \\\n",
              "0        192.168.50.1              60495         17   \n",
              "1          172.16.0.5              60495         17   \n",
              "2        192.168.50.1              46391         17   \n",
              "3        192.168.50.1              11894         17   \n",
              "4        192.168.50.1              27878         17   \n",
              "...               ...                ...        ...   \n",
              "85542    192.168.50.1              54540         17   \n",
              "85543    192.168.50.1              48632         17   \n",
              "85544    192.168.50.1              14935         17   \n",
              "85545    192.168.50.1               7820         17   \n",
              "85546    192.168.50.1               2622         17   \n",
              "\n",
              "                        Timestamp   Flow Duration   Total Fwd Packets  \\\n",
              "0      2018-12-01 10:51:39.813448           28415                  97   \n",
              "1      2018-12-01 10:51:39.820842               2                   2   \n",
              "2      2018-12-01 10:51:39.852499           48549                 200   \n",
              "3      2018-12-01 10:51:39.890213           48337                 200   \n",
              "4      2018-12-01 10:51:39.941151           32026                 200   \n",
              "...                           ...             ...                 ...   \n",
              "85542  2018-12-01 11:06:12.838194              51                   2   \n",
              "85543  2018-12-01 11:06:12.838292               2                   2   \n",
              "85544  2018-12-01 11:06:12.838346               1                   2   \n",
              "85545  2018-12-01 11:06:12.838395              46                   2   \n",
              "85546  2018-12-01 11:06:12.838494               1                   2   \n",
              "\n",
              "        Total Backward Packets  ...   Active Std   Active Max   Active Min  \\\n",
              "0                            0  ...          0.0          0.0          0.0   \n",
              "1                            0  ...          0.0          0.0          0.0   \n",
              "2                            0  ...          0.0          0.0          0.0   \n",
              "3                            0  ...          0.0          0.0          0.0   \n",
              "4                            0  ...          0.0          0.0          0.0   \n",
              "...                        ...  ...          ...          ...          ...   \n",
              "85542                        0  ...          0.0          0.0          0.0   \n",
              "85543                        0  ...          0.0          0.0          0.0   \n",
              "85544                        0  ...          0.0          0.0          0.0   \n",
              "85545                        0  ...          0.0          0.0          0.0   \n",
              "85546                        0  ...          NaN          NaN          NaN   \n",
              "\n",
              "       Idle Mean   Idle Std   Idle Max   Idle Min  SimillarHTTP   Inbound  \\\n",
              "0            0.0        0.0        0.0        0.0             0       1.0   \n",
              "1            0.0        0.0        0.0        0.0             0       0.0   \n",
              "2            0.0        0.0        0.0        0.0             0       1.0   \n",
              "3            0.0        0.0        0.0        0.0             0       1.0   \n",
              "4            0.0        0.0        0.0        0.0             0       1.0   \n",
              "...          ...        ...        ...        ...           ...       ...   \n",
              "85542        0.0        0.0        0.0        0.0           0.0       1.0   \n",
              "85543        0.0        0.0        0.0        0.0           0.0       1.0   \n",
              "85544        0.0        0.0        0.0        0.0           0.0       1.0   \n",
              "85545        0.0        0.0        0.0        0.0           0.0       1.0   \n",
              "85546        NaN        NaN        NaN        NaN           NaN       NaN   \n",
              "\n",
              "           Label  \n",
              "0      DrDoS_DNS  \n",
              "1      DrDoS_DNS  \n",
              "2      DrDoS_DNS  \n",
              "3      DrDoS_DNS  \n",
              "4      DrDoS_DNS  \n",
              "...          ...  \n",
              "85542  DrDoS_DNS  \n",
              "85543  DrDoS_DNS  \n",
              "85544  DrDoS_DNS  \n",
              "85545  DrDoS_DNS  \n",
              "85546        NaN  \n",
              "\n",
              "[85547 rows x 87 columns]"
            ],
            "text/html": [
              "\n",
              "  <div id=\"df-28b39fa1-e42c-494c-bd04-f7960a60d83e\">\n",
              "    <div class=\"colab-df-container\">\n",
              "      <div>\n",
              "<style scoped>\n",
              "    .dataframe tbody tr th:only-of-type {\n",
              "        vertical-align: middle;\n",
              "    }\n",
              "\n",
              "    .dataframe tbody tr th {\n",
              "        vertical-align: top;\n",
              "    }\n",
              "\n",
              "    .dataframe thead th {\n",
              "        text-align: right;\n",
              "    }\n",
              "</style>\n",
              "<table border=\"1\" class=\"dataframe\">\n",
              "  <thead>\n",
              "    <tr style=\"text-align: right;\">\n",
              "      <th></th>\n",
              "      <th>Flow ID</th>\n",
              "      <th>Source IP</th>\n",
              "      <th>Source Port</th>\n",
              "      <th>Destination IP</th>\n",
              "      <th>Destination Port</th>\n",
              "      <th>Protocol</th>\n",
              "      <th>Timestamp</th>\n",
              "      <th>Flow Duration</th>\n",
              "      <th>Total Fwd Packets</th>\n",
              "      <th>Total Backward Packets</th>\n",
              "      <th>...</th>\n",
              "      <th>Active Std</th>\n",
              "      <th>Active Max</th>\n",
              "      <th>Active Min</th>\n",
              "      <th>Idle Mean</th>\n",
              "      <th>Idle Std</th>\n",
              "      <th>Idle Max</th>\n",
              "      <th>Idle Min</th>\n",
              "      <th>SimillarHTTP</th>\n",
              "      <th>Inbound</th>\n",
              "      <th>Label</th>\n",
              "    </tr>\n",
              "  </thead>\n",
              "  <tbody>\n",
              "    <tr>\n",
              "      <th>0</th>\n",
              "      <td>172.16.0.5-192.168.50.1-634-60495-17</td>\n",
              "      <td>172.16.0.5</td>\n",
              "      <td>634</td>\n",
              "      <td>192.168.50.1</td>\n",
              "      <td>60495</td>\n",
              "      <td>17</td>\n",
              "      <td>2018-12-01 10:51:39.813448</td>\n",
              "      <td>28415</td>\n",
              "      <td>97</td>\n",
              "      <td>0</td>\n",
              "      <td>...</td>\n",
              "      <td>0.0</td>\n",
              "      <td>0.0</td>\n",
              "      <td>0.0</td>\n",
              "      <td>0.0</td>\n",
              "      <td>0.0</td>\n",
              "      <td>0.0</td>\n",
              "      <td>0.0</td>\n",
              "      <td>0</td>\n",
              "      <td>1.0</td>\n",
              "      <td>DrDoS_DNS</td>\n",
              "    </tr>\n",
              "    <tr>\n",
              "      <th>1</th>\n",
              "      <td>172.16.0.5-192.168.50.1-60495-634-17</td>\n",
              "      <td>192.168.50.1</td>\n",
              "      <td>634</td>\n",
              "      <td>172.16.0.5</td>\n",
              "      <td>60495</td>\n",
              "      <td>17</td>\n",
              "      <td>2018-12-01 10:51:39.820842</td>\n",
              "      <td>2</td>\n",
              "      <td>2</td>\n",
              "      <td>0</td>\n",
              "      <td>...</td>\n",
              "      <td>0.0</td>\n",
              "      <td>0.0</td>\n",
              "      <td>0.0</td>\n",
              "      <td>0.0</td>\n",
              "      <td>0.0</td>\n",
              "      <td>0.0</td>\n",
              "      <td>0.0</td>\n",
              "      <td>0</td>\n",
              "      <td>0.0</td>\n",
              "      <td>DrDoS_DNS</td>\n",
              "    </tr>\n",
              "    <tr>\n",
              "      <th>2</th>\n",
              "      <td>172.16.0.5-192.168.50.1-634-46391-17</td>\n",
              "      <td>172.16.0.5</td>\n",
              "      <td>634</td>\n",
              "      <td>192.168.50.1</td>\n",
              "      <td>46391</td>\n",
              "      <td>17</td>\n",
              "      <td>2018-12-01 10:51:39.852499</td>\n",
              "      <td>48549</td>\n",
              "      <td>200</td>\n",
              "      <td>0</td>\n",
              "      <td>...</td>\n",
              "      <td>0.0</td>\n",
              "      <td>0.0</td>\n",
              "      <td>0.0</td>\n",
              "      <td>0.0</td>\n",
              "      <td>0.0</td>\n",
              "      <td>0.0</td>\n",
              "      <td>0.0</td>\n",
              "      <td>0</td>\n",
              "      <td>1.0</td>\n",
              "      <td>DrDoS_DNS</td>\n",
              "    </tr>\n",
              "    <tr>\n",
              "      <th>3</th>\n",
              "      <td>172.16.0.5-192.168.50.1-634-11894-17</td>\n",
              "      <td>172.16.0.5</td>\n",
              "      <td>634</td>\n",
              "      <td>192.168.50.1</td>\n",
              "      <td>11894</td>\n",
              "      <td>17</td>\n",
              "      <td>2018-12-01 10:51:39.890213</td>\n",
              "      <td>48337</td>\n",
              "      <td>200</td>\n",
              "      <td>0</td>\n",
              "      <td>...</td>\n",
              "      <td>0.0</td>\n",
              "      <td>0.0</td>\n",
              "      <td>0.0</td>\n",
              "      <td>0.0</td>\n",
              "      <td>0.0</td>\n",
              "      <td>0.0</td>\n",
              "      <td>0.0</td>\n",
              "      <td>0</td>\n",
              "      <td>1.0</td>\n",
              "      <td>DrDoS_DNS</td>\n",
              "    </tr>\n",
              "    <tr>\n",
              "      <th>4</th>\n",
              "      <td>172.16.0.5-192.168.50.1-634-27878-17</td>\n",
              "      <td>172.16.0.5</td>\n",
              "      <td>634</td>\n",
              "      <td>192.168.50.1</td>\n",
              "      <td>27878</td>\n",
              "      <td>17</td>\n",
              "      <td>2018-12-01 10:51:39.941151</td>\n",
              "      <td>32026</td>\n",
              "      <td>200</td>\n",
              "      <td>0</td>\n",
              "      <td>...</td>\n",
              "      <td>0.0</td>\n",
              "      <td>0.0</td>\n",
              "      <td>0.0</td>\n",
              "      <td>0.0</td>\n",
              "      <td>0.0</td>\n",
              "      <td>0.0</td>\n",
              "      <td>0.0</td>\n",
              "      <td>0</td>\n",
              "      <td>1.0</td>\n",
              "      <td>DrDoS_DNS</td>\n",
              "    </tr>\n",
              "    <tr>\n",
              "      <th>...</th>\n",
              "      <td>...</td>\n",
              "      <td>...</td>\n",
              "      <td>...</td>\n",
              "      <td>...</td>\n",
              "      <td>...</td>\n",
              "      <td>...</td>\n",
              "      <td>...</td>\n",
              "      <td>...</td>\n",
              "      <td>...</td>\n",
              "      <td>...</td>\n",
              "      <td>...</td>\n",
              "      <td>...</td>\n",
              "      <td>...</td>\n",
              "      <td>...</td>\n",
              "      <td>...</td>\n",
              "      <td>...</td>\n",
              "      <td>...</td>\n",
              "      <td>...</td>\n",
              "      <td>...</td>\n",
              "      <td>...</td>\n",
              "      <td>...</td>\n",
              "    </tr>\n",
              "    <tr>\n",
              "      <th>85542</th>\n",
              "      <td>172.16.0.5-192.168.50.1-792-54540-17</td>\n",
              "      <td>172.16.0.5</td>\n",
              "      <td>792</td>\n",
              "      <td>192.168.50.1</td>\n",
              "      <td>54540</td>\n",
              "      <td>17</td>\n",
              "      <td>2018-12-01 11:06:12.838194</td>\n",
              "      <td>51</td>\n",
              "      <td>2</td>\n",
              "      <td>0</td>\n",
              "      <td>...</td>\n",
              "      <td>0.0</td>\n",
              "      <td>0.0</td>\n",
              "      <td>0.0</td>\n",
              "      <td>0.0</td>\n",
              "      <td>0.0</td>\n",
              "      <td>0.0</td>\n",
              "      <td>0.0</td>\n",
              "      <td>0.0</td>\n",
              "      <td>1.0</td>\n",
              "      <td>DrDoS_DNS</td>\n",
              "    </tr>\n",
              "    <tr>\n",
              "      <th>85543</th>\n",
              "      <td>172.16.0.5-192.168.50.1-793-48632-17</td>\n",
              "      <td>172.16.0.5</td>\n",
              "      <td>793</td>\n",
              "      <td>192.168.50.1</td>\n",
              "      <td>48632</td>\n",
              "      <td>17</td>\n",
              "      <td>2018-12-01 11:06:12.838292</td>\n",
              "      <td>2</td>\n",
              "      <td>2</td>\n",
              "      <td>0</td>\n",
              "      <td>...</td>\n",
              "      <td>0.0</td>\n",
              "      <td>0.0</td>\n",
              "      <td>0.0</td>\n",
              "      <td>0.0</td>\n",
              "      <td>0.0</td>\n",
              "      <td>0.0</td>\n",
              "      <td>0.0</td>\n",
              "      <td>0.0</td>\n",
              "      <td>1.0</td>\n",
              "      <td>DrDoS_DNS</td>\n",
              "    </tr>\n",
              "    <tr>\n",
              "      <th>85544</th>\n",
              "      <td>172.16.0.5-192.168.50.1-564-14935-17</td>\n",
              "      <td>172.16.0.5</td>\n",
              "      <td>564</td>\n",
              "      <td>192.168.50.1</td>\n",
              "      <td>14935</td>\n",
              "      <td>17</td>\n",
              "      <td>2018-12-01 11:06:12.838346</td>\n",
              "      <td>1</td>\n",
              "      <td>2</td>\n",
              "      <td>0</td>\n",
              "      <td>...</td>\n",
              "      <td>0.0</td>\n",
              "      <td>0.0</td>\n",
              "      <td>0.0</td>\n",
              "      <td>0.0</td>\n",
              "      <td>0.0</td>\n",
              "      <td>0.0</td>\n",
              "      <td>0.0</td>\n",
              "      <td>0.0</td>\n",
              "      <td>1.0</td>\n",
              "      <td>DrDoS_DNS</td>\n",
              "    </tr>\n",
              "    <tr>\n",
              "      <th>85545</th>\n",
              "      <td>172.16.0.5-192.168.50.1-564-7820-17</td>\n",
              "      <td>172.16.0.5</td>\n",
              "      <td>564</td>\n",
              "      <td>192.168.50.1</td>\n",
              "      <td>7820</td>\n",
              "      <td>17</td>\n",
              "      <td>2018-12-01 11:06:12.838395</td>\n",
              "      <td>46</td>\n",
              "      <td>2</td>\n",
              "      <td>0</td>\n",
              "      <td>...</td>\n",
              "      <td>0.0</td>\n",
              "      <td>0.0</td>\n",
              "      <td>0.0</td>\n",
              "      <td>0.0</td>\n",
              "      <td>0.0</td>\n",
              "      <td>0.0</td>\n",
              "      <td>0.0</td>\n",
              "      <td>0.0</td>\n",
              "      <td>1.0</td>\n",
              "      <td>DrDoS_DNS</td>\n",
              "    </tr>\n",
              "    <tr>\n",
              "      <th>85546</th>\n",
              "      <td>172.16.0.5-192.168.50.1-794-2622-17</td>\n",
              "      <td>172.16.0.5</td>\n",
              "      <td>794</td>\n",
              "      <td>192.168.50.1</td>\n",
              "      <td>2622</td>\n",
              "      <td>17</td>\n",
              "      <td>2018-12-01 11:06:12.838494</td>\n",
              "      <td>1</td>\n",
              "      <td>2</td>\n",
              "      <td>0</td>\n",
              "      <td>...</td>\n",
              "      <td>NaN</td>\n",
              "      <td>NaN</td>\n",
              "      <td>NaN</td>\n",
              "      <td>NaN</td>\n",
              "      <td>NaN</td>\n",
              "      <td>NaN</td>\n",
              "      <td>NaN</td>\n",
              "      <td>NaN</td>\n",
              "      <td>NaN</td>\n",
              "      <td>NaN</td>\n",
              "    </tr>\n",
              "  </tbody>\n",
              "</table>\n",
              "<p>85547 rows × 87 columns</p>\n",
              "</div>\n",
              "      <button class=\"colab-df-convert\" onclick=\"convertToInteractive('df-28b39fa1-e42c-494c-bd04-f7960a60d83e')\"\n",
              "              title=\"Convert this dataframe to an interactive table.\"\n",
              "              style=\"display:none;\">\n",
              "        \n",
              "  <svg xmlns=\"http://www.w3.org/2000/svg\" height=\"24px\"viewBox=\"0 0 24 24\"\n",
              "       width=\"24px\">\n",
              "    <path d=\"M0 0h24v24H0V0z\" fill=\"none\"/>\n",
              "    <path d=\"M18.56 5.44l.94 2.06.94-2.06 2.06-.94-2.06-.94-.94-2.06-.94 2.06-2.06.94zm-11 1L8.5 8.5l.94-2.06 2.06-.94-2.06-.94L8.5 2.5l-.94 2.06-2.06.94zm10 10l.94 2.06.94-2.06 2.06-.94-2.06-.94-.94-2.06-.94 2.06-2.06.94z\"/><path d=\"M17.41 7.96l-1.37-1.37c-.4-.4-.92-.59-1.43-.59-.52 0-1.04.2-1.43.59L10.3 9.45l-7.72 7.72c-.78.78-.78 2.05 0 2.83L4 21.41c.39.39.9.59 1.41.59.51 0 1.02-.2 1.41-.59l7.78-7.78 2.81-2.81c.8-.78.8-2.07 0-2.86zM5.41 20L4 18.59l7.72-7.72 1.47 1.35L5.41 20z\"/>\n",
              "  </svg>\n",
              "      </button>\n",
              "      \n",
              "  <style>\n",
              "    .colab-df-container {\n",
              "      display:flex;\n",
              "      flex-wrap:wrap;\n",
              "      gap: 12px;\n",
              "    }\n",
              "\n",
              "    .colab-df-convert {\n",
              "      background-color: #E8F0FE;\n",
              "      border: none;\n",
              "      border-radius: 50%;\n",
              "      cursor: pointer;\n",
              "      display: none;\n",
              "      fill: #1967D2;\n",
              "      height: 32px;\n",
              "      padding: 0 0 0 0;\n",
              "      width: 32px;\n",
              "    }\n",
              "\n",
              "    .colab-df-convert:hover {\n",
              "      background-color: #E2EBFA;\n",
              "      box-shadow: 0px 1px 2px rgba(60, 64, 67, 0.3), 0px 1px 3px 1px rgba(60, 64, 67, 0.15);\n",
              "      fill: #174EA6;\n",
              "    }\n",
              "\n",
              "    [theme=dark] .colab-df-convert {\n",
              "      background-color: #3B4455;\n",
              "      fill: #D2E3FC;\n",
              "    }\n",
              "\n",
              "    [theme=dark] .colab-df-convert:hover {\n",
              "      background-color: #434B5C;\n",
              "      box-shadow: 0px 1px 3px 1px rgba(0, 0, 0, 0.15);\n",
              "      filter: drop-shadow(0px 1px 2px rgba(0, 0, 0, 0.3));\n",
              "      fill: #FFFFFF;\n",
              "    }\n",
              "  </style>\n",
              "\n",
              "      <script>\n",
              "        const buttonEl =\n",
              "          document.querySelector('#df-28b39fa1-e42c-494c-bd04-f7960a60d83e button.colab-df-convert');\n",
              "        buttonEl.style.display =\n",
              "          google.colab.kernel.accessAllowed ? 'block' : 'none';\n",
              "\n",
              "        async function convertToInteractive(key) {\n",
              "          const element = document.querySelector('#df-28b39fa1-e42c-494c-bd04-f7960a60d83e');\n",
              "          const dataTable =\n",
              "            await google.colab.kernel.invokeFunction('convertToInteractive',\n",
              "                                                     [key], {});\n",
              "          if (!dataTable) return;\n",
              "\n",
              "          const docLinkHtml = 'Like what you see? Visit the ' +\n",
              "            '<a target=\"_blank\" href=https://colab.research.google.com/notebooks/data_table.ipynb>data table notebook</a>'\n",
              "            + ' to learn more about interactive tables.';\n",
              "          element.innerHTML = '';\n",
              "          dataTable['output_type'] = 'display_data';\n",
              "          await google.colab.output.renderOutput(dataTable, element);\n",
              "          const docLink = document.createElement('div');\n",
              "          docLink.innerHTML = docLinkHtml;\n",
              "          element.appendChild(docLink);\n",
              "        }\n",
              "      </script>\n",
              "    </div>\n",
              "  </div>\n",
              "  "
            ]
          },
          "metadata": {},
          "execution_count": 11
        }
      ]
    },
    {
      "cell_type": "markdown",
      "source": [
        "column header validation."
      ],
      "metadata": {
        "id": "kuk6WBE0r2Tc"
      }
    },
    {
      "cell_type": "code",
      "source": [
        "tu.col_header_val(df_yaml,config_data)"
      ],
      "metadata": {
        "colab": {
          "base_uri": "https://localhost:8080/"
        },
        "id": "Jhl0yFdjq73k",
        "outputId": "2396e5c0-c5ea-4aab-81d0-a8f1766430b5"
      },
      "execution_count": 12,
      "outputs": [
        {
          "output_type": "stream",
          "name": "stdout",
          "text": [
            "column name and column length validation failed\n",
            "Following File columns are not in the YAML file ['fwd_iat_std', 'flow_bytes_s', 'idle_min', 'urg_flag_count', 'average_packet_size', 'bwd_packet_length_min', 'idle_std', 'simillarhttp', 'total_backward_packets', 'fwd_avg_packets_bulk', 'fwd_header_length_1', 'active_mean', 'destination_port', 'subflow_bwd_packets', 'flow_iat_std', 'fwd_packet_length_max', 'fwd_iat_total', 'bwd_iat_min', 'total_length_of_bwd_packets', 'bwd_packet_length_std', 'active_std', 'flow_duration', 'fwd_packet_length_min', 'flow_iat_mean', 'fwd_iat_mean', 'fwd_header_length', 'fwd_avg_bulk_rate', 'fwd_iat_min', 'bwd_iat_std', 'init_win_bytes_backward', 'bwd_avg_packets_bulk', 'bwd_header_length', 'ece_flag_count', 'protocol', 'init_win_bytes_forward', 'max_packet_length', 'subflow_fwd_bytes', 'rst_flag_count', 'flow_iat_min', 'active_max', 'bwd_urg_flags', 'fwd_packet_length_std', 'destination_ip', 'fwd_psh_flags', 'idle_max', 'bwd_psh_flags', 'min_packet_length', 'ack_flag_count', 'fwd_iat_max', 'packet_length_variance', 'min_seg_size_forward', 'syn_flag_count', 'packet_length_std', 'down_up_ratio', 'bwd_avg_bytes_bulk', 'subflow_bwd_bytes', 'act_data_pkt_fwd', 'bwd_iat_total', 'fwd_avg_bytes_bulk', 'bwd_iat_max', 'active_min', 'bwd_packet_length_max', 'cwe_flag_count', 'psh_flag_count', 'subflow_fwd_packets', 'packet_length_mean', 'total_length_of_fwd_packets', 'inbound', 'avg_fwd_segment_size', 'fwd_packet_length_mean', 'label', 'fwd_urg_flags', 'bwd_avg_bulk_rate', 'flow_packets_s', 'total_fwd_packets', 'fwd_packets_s', 'avg_bwd_segment_size', 'bwd_iat_mean', 'idle_mean', 'timestamp', 'flow_iat_max', 'fin_flag_count', 'bwd_packet_length_mean', 'bwd_packets_s']\n",
            "Following YAML columns are not in the file uploaded []\n"
          ]
        },
        {
          "output_type": "execute_result",
          "data": {
            "text/plain": [
              "0"
            ]
          },
          "metadata": {},
          "execution_count": 12
        }
      ]
    },
    {
      "cell_type": "markdown",
      "source": [
        "save the dataframe as output.txt with separator (|)"
      ],
      "metadata": {
        "id": "cLIMNrfLjV42"
      }
    },
    {
      "cell_type": "code",
      "source": [
        "df_yaml.to_csv(r'/content/output.txt', sep = '|', index=False)"
      ],
      "metadata": {
        "id": "7Ir_jJyJsBj5"
      },
      "execution_count": 9,
      "outputs": []
    },
    {
      "cell_type": "code",
      "source": [],
      "metadata": {
        "id": "TA5j4kOeysQM"
      },
      "execution_count": 8,
      "outputs": []
    }
  ]
}